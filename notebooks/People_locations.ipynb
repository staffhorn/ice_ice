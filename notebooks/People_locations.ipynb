{
 "cells": [
  {
   "cell_type": "code",
   "execution_count": null,
   "metadata": {},
   "outputs": [],
   "source": [
    "from sqlalchemy import create_engine\n",
    "import pandas as pd\n",
    "import geopy\n",
    "from geopy.geocoders import Nominatim\n",
    "from os import environ\n",
    "from googlemaps import Client\n",
    "import math\n",
    "from ipyleaflet import Map, Marker, MarkerCluster, basemap_to_tiles, basemaps, WMSLayer, LayersControl"
   ]
  },
  {
   "cell_type": "code",
   "execution_count": null,
   "metadata": {},
   "outputs": [],
   "source": [
    "connection_url =  environ[\"ICEURL\"]"
   ]
  },
  {
   "cell_type": "code",
   "execution_count": null,
   "metadata": {},
   "outputs": [],
   "source": [
    "status = pd.read_sql(con=connection_url, sql=\"SELECT * FROM status_daily\")\n",
    "locations = pd.read_sql(con=connection_url, sql=\"SELECT * FROM locations\")\n",
    "# for col in ['date_first_record', 'date_recent_record', 'created_at', 'updated_at' ]:\n",
    "#     dataframe2[col] = (new_dataframe[col]).apply(lambda d: pd.to_datetime(str(d)))\n",
    "# dataframe2.to_sql(name='locations', con=connection_url, if_exists='append', index=False)"
   ]
  },
  {
   "cell_type": "code",
   "execution_count": null,
   "metadata": {},
   "outputs": [],
   "source": [
    "status.sort_values(by=['date'],inplace=True)"
   ]
  },
  {
   "cell_type": "code",
   "execution_count": null,
   "metadata": {},
   "outputs": [],
   "source": [
    "print(pd.io.sql.get_schema(status,'status'))\n"
   ]
  },
  {
   "cell_type": "code",
   "execution_count": null,
   "metadata": {},
   "outputs": [],
   "source": [
    "locations.head(5)"
   ]
  },
  {
   "cell_type": "code",
   "execution_count": null,
   "metadata": {},
   "outputs": [],
   "source": [
    "sf =  status[status['location_id'].notnull()]"
   ]
  },
  {
   "cell_type": "code",
   "execution_count": null,
   "metadata": {},
   "outputs": [],
   "source": [
    "sf = sf[sf['date'] == sf['date'].max()]"
   ]
  },
  {
   "cell_type": "code",
   "execution_count": null,
   "metadata": {},
   "outputs": [],
   "source": [
    "sf['location_id'] = pd.to_numeric(sf['location_id'], downcast='unsigned')"
   ]
  },
  {
   "cell_type": "code",
   "execution_count": null,
   "metadata": {},
   "outputs": [],
   "source": [
    "status_locations = sf[['id','location_id']].merge(locations[['id','lat','lon']], left_on='location_id', right_on='id')"
   ]
  },
  {
   "cell_type": "code",
   "execution_count": null,
   "metadata": {},
   "outputs": [],
   "source": [
    "del status_locations['id_y']\n",
    "status_locations.head()"
   ]
  },
  {
   "cell_type": "code",
   "execution_count": null,
   "metadata": {},
   "outputs": [],
   "source": [
    "\n",
    "\n",
    "m = Map(\n",
    "    center=(39.1, -94.578),\n",
    "    zoom=4,\n",
    "    attribution_control=False\n",
    ")\n",
    "\n",
    "markers=[]\n",
    "for index, row in status_locations.iterrows():\n",
    "    lat, lon = row [['lat','lon']]\n",
    "    if not math.isnan(lat):\n",
    "        markers.append(Marker(location=(lat,lon)))\n",
    "\n",
    "marker_cluster = MarkerCluster(markers=markers)\n",
    "m.add_layer(marker_cluster)\n",
    "m.add_layer(basemaps.Esri.DeLorme)\n",
    "nasa_layer = basemap_to_tiles(basemaps.NASAGIBS.ModisTerraTrueColorCR, \"2018-09-17\")\n",
    "m.add_layer(nasa_layer)\n",
    "m.add_control(LayersControl())\n",
    "m"
   ]
  }
 ],
 "metadata": {
  "kernelspec": {
   "display_name": "Python 3",
   "language": "python",
   "name": "python3"
  },
  "language_info": {
   "codemirror_mode": {
    "name": "ipython",
    "version": 3
   },
   "file_extension": ".py",
   "mimetype": "text/x-python",
   "name": "python",
   "nbconvert_exporter": "python",
   "pygments_lexer": "ipython3",
   "version": "3.6.6"
  }
 },
 "nbformat": 4,
 "nbformat_minor": 2
}
