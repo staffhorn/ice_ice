{
 "cells": [
  {
   "cell_type": "code",
   "execution_count": 2,
   "metadata": {},
   "outputs": [],
   "source": [
    "from sqlalchemy import create_engine\n",
    "import pandas as pd\n",
    "from fuzzywuzzy import process, fuzz\n",
    "import geopy\n",
    "from geopy.geocoders import Nominatim\n",
    "from os import environ\n",
    "from googlemaps import Client\n",
    "import math"
   ]
  },
  {
   "cell_type": "code",
   "execution_count": 3,
   "metadata": {},
   "outputs": [],
   "source": [
    "connection_url =  environ[\"ICEURL\"]"
   ]
  },
  {
   "cell_type": "code",
   "execution_count": 13,
   "metadata": {},
   "outputs": [],
   "source": [
    "dataframe = pd.read_sql(con=connection_url, sql=\"SELECT * FROM transfers LIMIT 20\")\n",
    "# for col in ['date_first_record', 'date_recent_record', 'created_at', 'updated_at' ]:\n",
    "#     dataframe2[col] = (new_dataframe[col]).apply(lambda d: pd.to_datetime(str(d)))\n",
    "# dataframe2.to_sql(name='locations', con=connection_url, if_exists='append', index=False)"
   ]
  },
  {
   "cell_type": "code",
   "execution_count": 17,
   "metadata": {},
   "outputs": [],
   "source": [
    "a=pd.io.sql.get_schema(dataframe,'transfers')"
   ]
  },
  {
   "cell_type": "code",
   "execution_count": 18,
   "metadata": {},
   "outputs": [
    {
     "name": "stdout",
     "output_type": "stream",
     "text": [
      "CREATE TABLE \"transfers\" (\n",
      "\"id\" INTEGER,\n",
      "  \"alien_number\" TEXT,\n",
      "  \"action\" TEXT,\n",
      "  \"action_date\" TIMESTAMP,\n",
      "  \"action_from\" REAL,\n",
      "  \"action_to\" REAL,\n",
      "  \"initiating_agency\" TEXT,\n",
      "  \"receiving_agency\" TEXT,\n",
      "  \"program_type\" TEXT,\n",
      "  \"accompanied_status\" TEXT,\n",
      "  \"age_at_action\" REAL,\n",
      "  \"days_since_first_action\" INTEGER,\n",
      "  \"first_action\" TEXT,\n",
      "  \"notes\" TEXT,\n",
      "  \"first_action_date\" TIMESTAMP,\n",
      "  \"created_at\" TIMESTAMP,\n",
      "  \"updated_at\" TIMESTAMP\n",
      ")\n"
     ]
    }
   ],
   "source": [
    "print(a)"
   ]
  },
  {
   "cell_type": "code",
   "execution_count": null,
   "metadata": {},
   "outputs": [],
   "source": []
  }
 ],
 "metadata": {
  "kernelspec": {
   "display_name": "ice",
   "language": "python",
   "name": "python3"
  },
  "language_info": {
   "codemirror_mode": {
    "name": "ipython",
    "version": 3
   },
   "file_extension": ".py",
   "mimetype": "text/x-python",
   "name": "python",
   "nbconvert_exporter": "python",
   "pygments_lexer": "ipython3",
   "version": "3.6.5"
  }
 },
 "nbformat": 4,
 "nbformat_minor": 2
}
