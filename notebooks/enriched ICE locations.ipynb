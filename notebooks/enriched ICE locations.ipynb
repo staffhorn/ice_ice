{
 "cells": [
  {
   "cell_type": "code",
   "execution_count": 1,
   "metadata": {},
   "outputs": [],
   "source": [
    "from sqlalchemy import create_engine\n",
    "import pandas as pd\n",
    "from fuzzywuzzy import process, fuzz\n",
    "import geopy\n",
    "from geopy.geocoders import Nominatim\n",
    "from os import environ\n",
    "from googlemaps import Client\n",
    "import math"
   ]
  },
  {
   "cell_type": "markdown",
   "metadata": {},
   "source": [
    "The database URL contains credentials that should be protected, so we use an environment variable."
   ]
  },
  {
   "cell_type": "code",
   "execution_count": 2,
   "metadata": {},
   "outputs": [],
   "source": [
    "connection_url =  environ[\"ICEURL\"]"
   ]
  },
  {
   "cell_type": "code",
   "execution_count": 3,
   "metadata": {},
   "outputs": [],
   "source": [
    "dataframe = pd.read_sql_table(\"locations\", connection_url, \"public\")"
   ]
  },
  {
   "cell_type": "markdown",
   "metadata": {},
   "source": [
    "We scraped TRAC (http://trac.syr.edu) detention center location data in a different Jupyter notebook, and saved as a CSV file."
   ]
  },
  {
   "cell_type": "code",
   "execution_count": 4,
   "metadata": {},
   "outputs": [],
   "source": [
    "trac_locations = pd.read_csv('trac_locations_corrected.csv')\n",
    "choices = trac_locations['Facility Name']\n",
    "\n",
    "# We're going to use Nominatim (geolocator) and google maps (client)\n",
    "geolocator = Nominatim(user_agent=\"iceicedata\")\n",
    "geopy.geocoders.options.default_timeout = 7\n",
    "\n",
    "client = Client(environ[\"APIKEY\"])\n"
   ]
  },
  {
   "cell_type": "code",
   "execution_count": 5,
   "metadata": {},
   "outputs": [],
   "source": [
    "def enrich_row(old_row):\n",
    "    row = old_row.copy()\n",
    "    if math.isnan(row['lat']):\n",
    "        state = ''\n",
    "        city = ''\n",
    "        lat = math.nan\n",
    "        lng = math.nan\n",
    "        if row['state'] is not None:\n",
    "            state = row['state']\n",
    "            if row['city'] is not None:\n",
    "                city = row['city']\n",
    "            else:\n",
    "                city = ''\n",
    "        else:\n",
    "            name = row['name']\n",
    "            match = process.extractOne(name, choices, scorer=fuzz.token_set_ratio)\n",
    "            if match[1] > 92:\n",
    "                city = trac_locations.at[match[2], 'City']\n",
    "                state = trac_locations.at[match[2], 'State']\n",
    "                location = geolocator.geocode(city + ', ' + state)\n",
    "                if location is not None:\n",
    "                    lng = location.longitude\n",
    "                    lat = location.latitude\n",
    "                else:\n",
    "                    lng = math.nan\n",
    "                    lat = math.nan\n",
    "\n",
    "        if state == '':\n",
    "            # Try google\n",
    "            place = client.places(name)\n",
    "            if place['status'] == 'OK':\n",
    "                lat = place['results'][0]['geometry']['location']['lat']\n",
    "                lng = place['results'][0]['geometry']['location']['lng']\n",
    "                location = geolocator.reverse(str(lat) + ', ' + str(lng))\n",
    "                if location is not None:\n",
    "                    if 'city' in location.raw['address']:\n",
    "                        city = location.raw['address']['city']\n",
    "                    elif 'hamlet' in location.raw['address']:\n",
    "                        city = location.raw['address']['hamlet']\n",
    "                    elif 'town' in location.raw['address']:\n",
    "                        city = location.raw['address']['town']\n",
    "                    elif 'village' in location.raw['address']:\n",
    "                        city = location.raw['address']['village']\n",
    "                    elif 'locality' in location.raw['address']:\n",
    "                        city = location.raw['address']['locality']\n",
    "                    else:\n",
    "                        city = ''\n",
    "        if not math.isnan(lat):\n",
    "            row['city'] = city\n",
    "            row['state'] = state\n",
    "            row['lon'] = lng\n",
    "            row['lat'] = lat\n",
    "    return row\n"
   ]
  },
  {
   "cell_type": "code",
   "execution_count": 6,
   "metadata": {},
   "outputs": [],
   "source": [
    "dataframe.to_csv('ice_locations_original.csv', index=False)"
   ]
  },
  {
   "cell_type": "code",
   "execution_count": 7,
   "metadata": {
    "scrolled": false
   },
   "outputs": [],
   "source": [
    "# Add location information, if we can find it.\n",
    "\n",
    "new_dataframe = dataframe.apply(enrich_row, axis=1)"
   ]
  },
  {
   "cell_type": "code",
   "execution_count": 8,
   "metadata": {},
   "outputs": [],
   "source": [
    "new_dataframe.to_csv('ice_locations.csv', index=False)"
   ]
  },
  {
   "cell_type": "code",
   "execution_count": 59,
   "metadata": {},
   "outputs": [
    {
     "data": {
      "text/plain": [
       "<sqlalchemy.engine.result.ResultProxy at 0x7fa9a7dfdf28>"
      ]
     },
     "execution_count": 59,
     "metadata": {},
     "output_type": "execute_result"
    }
   ],
   "source": [
    "# engine = create_engine(connection_url)\n",
    "# engine.execute('DELETE from public.locations ')\n",
    "# dataframe2 = new_dataframe.copy()\n",
    "# for col in ['date_first_record', 'date_recent_record', 'created_at', 'updated_at' ]:\n",
    "#     dataframe2[col] = (new_dataframe[col]).apply(lambda d: pd.to_datetime(str(d)))\n",
    "# dataframe2.to_sql(name='locations', con=connection_url, if_exists='append', index=False)"
   ]
  }
 ],
 "metadata": {
  "kernelspec": {
   "display_name": "ice",
   "language": "python",
   "name": "python3"
  },
  "language_info": {
   "codemirror_mode": {
    "name": "ipython",
    "version": 3
   },
   "file_extension": ".py",
   "mimetype": "text/x-python",
   "name": "python",
   "nbconvert_exporter": "python",
   "pygments_lexer": "ipython3",
   "version": "3.6.5"
  }
 },
 "nbformat": 4,
 "nbformat_minor": 2
}
