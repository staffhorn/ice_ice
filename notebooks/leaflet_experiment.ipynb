{
 "cells": [
  {
   "cell_type": "markdown",
   "metadata": {},
   "source": [
    "## Center for Human Rights and Constitutional Law\n",
    "ICE/ORR  Locations"
   ]
  },
  {
   "cell_type": "code",
   "execution_count": 22,
   "metadata": {},
   "outputs": [
    {
     "data": {
      "application/vnd.jupyter.widget-view+json": {
       "model_id": "40e5cde8e9ff4f04900ad05095631d2a",
       "version_major": 2,
       "version_minor": 0
      },
      "text/plain": [
       "Map(attribution_control=False, basemap={'url': 'https://{s}.tile.openstreetmap.org/{z}/{x}/{y}.png', 'max_zoom…"
      ]
     },
     "metadata": {},
     "output_type": "display_data"
    }
   ],
   "source": [
    "from ipyleaflet import Map, Marker, MarkerCluster, basemap_to_tiles, basemaps, WMSLayer, LayersControl\n",
    "import pandas as pd\n",
    "import math\n",
    "\n",
    "m = Map(\n",
    "    center=(39.1, -94.578),\n",
    "    zoom=4,\n",
    "    attribution_control=False\n",
    ")\n",
    "locations = pd.read_csv('ice_locations.csv')\n",
    "markers=[]\n",
    "for index, row in locations.iterrows():\n",
    "    lat, lon = row [['lat','lon']]\n",
    "    if not math.isnan(lat):\n",
    "        markers.append(Marker(location=(lat,lon)))\n",
    "marker_cluster = MarkerCluster(markers=markers)\n",
    "m.add_layer(marker_cluster)\n",
    "m.add_layer(basemaps.Esri.DeLorme)\n",
    "nasa_layer = basemap_to_tiles(basemaps.NASAGIBS.ModisTerraTrueColorCR, \"2018-09-12\")\n",
    "m.add_layer(nasa_layer)\n",
    "\n",
    "wms = WMSLayer(\n",
    "    url=\"https://demo.boundlessgeo.com/geoserver/ows?\",\n",
    "    layers=\"nasa:bluemarble\",\n",
    "    name=\"nasa:bluemarble\"\n",
    ")\n",
    "m.add_layer(wms)\n",
    "\n",
    "m.add_control(LayersControl())\n",
    "m"
   ]
  },
  {
   "cell_type": "code",
   "execution_count": null,
   "metadata": {},
   "outputs": [],
   "source": []
  }
 ],
 "metadata": {
  "kernelspec": {
   "display_name": "ice",
   "language": "python",
   "name": "python3"
  },
  "language_info": {
   "codemirror_mode": {
    "name": "ipython",
    "version": 3
   },
   "file_extension": ".py",
   "mimetype": "text/x-python",
   "name": "python",
   "nbconvert_exporter": "python",
   "pygments_lexer": "ipython3",
   "version": "3.6.5"
  }
 },
 "nbformat": 4,
 "nbformat_minor": 2
}
